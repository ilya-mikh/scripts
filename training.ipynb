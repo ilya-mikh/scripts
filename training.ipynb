{
 "cells": [
  {
   "cell_type": "code",
   "execution_count": 7,
   "metadata": {},
   "outputs": [
    {
     "name": "stdout",
     "output_type": "stream",
     "text": [
      "1\n",
      "121\n",
      "12321\n",
      "1234321\n",
      "123454321\n"
     ]
    }
   ],
   "source": [
    "for i in range(1,int(5)+1): \n",
    "    print(\"\".join([str(n) for n in range(1,i)]) + str(i) + \"\".join([str(n) for n in range(1,i)][::-1]))"
   ]
  },
  {
   "cell_type": "markdown",
   "metadata": {},
   "source": []
  },
  {
   "cell_type": "code",
   "execution_count": 8,
   "metadata": {},
   "outputs": [
    {
     "name": "stdout",
     "output_type": "stream",
     "text": [
      "1\n",
      "121\n",
      "12321\n",
      "1234321\n",
      "123454321\n"
     ]
    }
   ],
   "source": [
    "for i in range(1,int(5)+1): \n",
    "    print(sum([n*(10**(n-1)) for n in range(1,i)]) + i*(10**(i-1)) + sum([n*(10**(2*i-n-1)) for n in range(i-1,0,-1)]))"
   ]
  },
  {
   "cell_type": "code",
   "execution_count": 3,
   "metadata": {},
   "outputs": [
    {
     "name": "stdout",
     "output_type": "stream",
     "text": [
      "1\n",
      "121\n",
      "12321\n",
      "1234321\n",
      "123454321\n"
     ]
    }
   ],
   "source": [
    "for i in range(1,int(5)+1):\n",
    "    print(((10**i-1)//9)**2)"
   ]
  },
  {
   "cell_type": "code",
   "execution_count": 4,
   "metadata": {},
   "outputs": [],
   "source": [
    "import itertools, collections"
   ]
  },
  {
   "cell_type": "code",
   "execution_count": 5,
   "metadata": {},
   "outputs": [
    {
     "name": "stdout",
     "output_type": "stream",
     "text": [
      "g 2\n",
      "o 2\n",
      "e 1\n",
      "l 1\n"
     ]
    }
   ],
   "source": [
    "s=\"google\"\n",
    "a = collections.Counter(s)\n",
    "for i in sorted(a.items(), key=lambda x:(-x[1],x[0])):\n",
    "    print(\"{0} {1}\".format(i[0],i[1]))\n"
   ]
  },
  {
   "cell_type": "code",
   "execution_count": 2,
   "metadata": {},
   "outputs": [
    {
     "name": "stdout",
     "output_type": "stream",
     "text": [
      "1.0\n",
      "22.0\n",
      "333.0\n",
      "4444.0\n"
     ]
    }
   ],
   "source": [
    "for i in range(1,5): #More than 2 lines will result in 0 score. Do not leave a blank line also\n",
    "    print((10**(i)-1)//9*i)"
   ]
  },
  {
   "cell_type": "code",
   "execution_count": 145,
   "metadata": {},
   "outputs": [
    {
     "name": "stdout",
     "output_type": "stream",
     "text": [
      "5\n"
     ]
    }
   ],
   "source": [
    "import functools\n",
    "from fractions import Fraction\n",
    "functools.reduce(lambda x, y : x + y,[1,2,3])\n",
    "print(frac(30, 48).numerator)"
   ]
  },
  {
   "cell_type": "code",
   "execution_count": 1,
   "metadata": {},
   "outputs": [
    {
     "ename": "NameError",
     "evalue": "name 'Fraction' is not defined",
     "output_type": "error",
     "traceback": [
      "\u001b[1;31m---------------------------------------------------------------------------\u001b[0m",
      "\u001b[1;31mNameError\u001b[0m                                 Traceback (most recent call last)",
      "\u001b[1;32m<ipython-input-1-abc3c5cc54fe>\u001b[0m in \u001b[0;36m<module>\u001b[1;34m\u001b[0m\n\u001b[0;32m      1\u001b[0m \u001b[0mfracs\u001b[0m \u001b[1;33m=\u001b[0m \u001b[1;33m[\u001b[0m\u001b[1;33m]\u001b[0m\u001b[1;33m\u001b[0m\u001b[1;33m\u001b[0m\u001b[0m\n\u001b[0;32m      2\u001b[0m \u001b[1;32mfor\u001b[0m \u001b[0m_\u001b[0m \u001b[1;32min\u001b[0m \u001b[0mrange\u001b[0m\u001b[1;33m(\u001b[0m\u001b[1;36m3\u001b[0m\u001b[1;33m)\u001b[0m\u001b[1;33m:\u001b[0m\u001b[1;33m\u001b[0m\u001b[1;33m\u001b[0m\u001b[0m\n\u001b[1;32m----> 3\u001b[1;33m     \u001b[0mfracs\u001b[0m\u001b[1;33m.\u001b[0m\u001b[0mappend\u001b[0m\u001b[1;33m(\u001b[0m\u001b[0mFraction\u001b[0m\u001b[1;33m(\u001b[0m\u001b[1;33m*\u001b[0m\u001b[0mmap\u001b[0m\u001b[1;33m(\u001b[0m\u001b[0mint\u001b[0m\u001b[1;33m,\u001b[0m \u001b[1;33m(\u001b[0m\u001b[1;36m1\u001b[0m\u001b[1;33m,\u001b[0m\u001b[1;36m2\u001b[0m\u001b[1;33m)\u001b[0m\u001b[1;33m)\u001b[0m\u001b[1;33m)\u001b[0m\u001b[1;33m)\u001b[0m\u001b[1;33m\u001b[0m\u001b[1;33m\u001b[0m\u001b[0m\n\u001b[0m\u001b[0;32m      4\u001b[0m \u001b[1;33m\u001b[0m\u001b[0m\n\u001b[0;32m      5\u001b[0m \u001b[0mprint\u001b[0m\u001b[1;33m(\u001b[0m\u001b[0mfracs\u001b[0m\u001b[1;33m[\u001b[0m\u001b[1;36m1\u001b[0m\u001b[1;33m]\u001b[0m\u001b[1;33m.\u001b[0m\u001b[0mnumerator\u001b[0m\u001b[1;33m)\u001b[0m\u001b[1;33m\u001b[0m\u001b[1;33m\u001b[0m\u001b[0m\n",
      "\u001b[1;31mNameError\u001b[0m: name 'Fraction' is not defined"
     ]
    }
   ],
   "source": [
    "fracs = []\n",
    "for _ in range(3):\n",
    "    fracs.append(Fraction(*map(int, (1,2))))\n",
    "                 \n",
    "print(fracs[1].numerator)"
   ]
  },
  {
   "cell_type": "code",
   "execution_count": 171,
   "metadata": {},
   "outputs": [
    {
     "name": "stdout",
     "output_type": "stream",
     "text": [
      "True\n"
     ]
    }
   ],
   "source": [
    "s = 'asd@web.com'\n",
    "u,w,d = s[:s.find(\"@\")],s[s.find(\"@\")+1:s.find(\".\")],s[s.find(\".\")+1:]\n",
    "print( w.isalnum())"
   ]
  },
  {
   "cell_type": "code",
   "execution_count": 184,
   "metadata": {},
   "outputs": [
    {
     "data": {
      "text/plain": [
       "True"
      ]
     },
     "execution_count": 184,
     "metadata": {},
     "output_type": "execute_result"
    }
   ],
   "source": [
    "def fun(s):\n",
    "    u,w,d = s[:s.find(\"@\")],s[s.find(\"@\")+1:s.find(\".\")],s[s.find(\".\")+1:]\n",
    "    if len(d) > 3:\n",
    "        return False\n",
    "    if w.isalnum() != 1:\n",
    "        return False\n",
    "    if s.count(\"@\") != 1 or s.count(\".\") != 1:\n",
    "        return False\n",
    "    if u.isalnum() != 1 and \"-\" not in u and \"_\" not in u:\n",
    "        return False\n",
    "    return True\n",
    "fun(\"daniyal@gmail.coma\")"
   ]
  },
  {
   "cell_type": "code",
   "execution_count": 189,
   "metadata": {},
   "outputs": [
    {
     "name": "stdout",
     "output_type": "stream",
     "text": [
      "3\n",
      "1\n",
      "4\n",
      "4\n"
     ]
    }
   ],
   "source": [
    "def is_vowel(letter):\n",
    "    return letter in ['a', 'e', 'i', 'o', 'u', 'y']\n",
    "\n",
    "def score_words(words):\n",
    "    score = 0\n",
    "    for word in words:\n",
    "        num_vowels = 0\n",
    "        \n",
    "        for letter in word:\n",
    "            if is_vowel(letter):\n",
    "                num_vowels += 1\n",
    "                \n",
    "        if num_vowels % 2 == 0:\n",
    "            score += 2\n",
    "        else:\n",
    "            score+=1\n",
    "        print(num_vowels)\n",
    "    return score\n",
    "\n",
    "words = \"programming is awesome\".split()\n",
    "print(score_words(words))"
   ]
  },
  {
   "cell_type": "code",
   "execution_count": 254,
   "metadata": {},
   "outputs": [
    {
     "name": "stdout",
     "output_type": "stream",
     "text": [
      "[('a', 2), ('b', 4), ('c', 5), ('a', 2), ('a', 2)]\n"
     ]
    },
    {
     "data": {
      "text/plain": [
       "[('c', 5), ('a', 6), ('b', 4)]"
      ]
     },
     "execution_count": 254,
     "metadata": {},
     "output_type": "execute_result"
    }
   ],
   "source": [
    "import itertools\n",
    "dict1 = {'bookA': 'a', 'bookB': 'b', 'bookC': 'c', 'bookE': 'a','bookF': 'a'}\n",
    "dict2 = {'a': 2, 'b': 4, 'c': 5}\n",
    "l = [(i,dict2[i]) for i in dict1.values()]\n",
    "print(l)\n",
    "l = [(k,sum([i for j,i in l if j==k])) for k in set(dict1.values())]\n",
    "l"
   ]
  },
  {
   "cell_type": "code",
   "execution_count": 248,
   "metadata": {},
   "outputs": [
    {
     "name": "stdout",
     "output_type": "stream",
     "text": [
      "{2: [0, 2, 3], 1: [1], 3: [4]}\n",
      "[[0, 2], [3]]\n",
      "[[0, 2], [3], [1]]\n",
      "[[0, 2], [3], [1], [4]]\n"
     ]
    }
   ],
   "source": [
    "groupSizes = [2,1,2,2,3]\n",
    "dic = {}\n",
    "for i in range(len(groupSizes)):\n",
    "    if groupSizes[i] in dic:\n",
    "        dic[groupSizes[i]].append(i)\n",
    "    else:\n",
    "        dic[groupSizes[i]] = [i]\n",
    "print(dic)\n",
    "r = []\n",
    "for x in dic:\n",
    "    r.extend(dic[x][i:i+x] for i in range(0, len(dic[x]), x))\n",
    "    print(r)\n"
   ]
  },
  {
   "cell_type": "code",
   "execution_count": 1,
   "metadata": {},
   "outputs": [
    {
     "data": {
      "text/plain": [
       "[[2, 1], [2, 2], [3, 4], [5, 6]]"
      ]
     },
     "execution_count": 1,
     "metadata": {},
     "output_type": "execute_result"
    }
   ],
   "source": [
    "s = [2,1,2,2,3,4,5,6]\n",
    "[s[i:i+2] for i in range(0,len(s),2)]"
   ]
  },
  {
   "cell_type": "code",
   "execution_count": 17,
   "metadata": {},
   "outputs": [
    {
     "name": "stdout",
     "output_type": "stream",
     "text": [
      "[0, 0] [1, 0] 2 5\n",
      "[0, 0] [1, 0] 2 2\n",
      "[0, 0] [1, 1] 2 3\n",
      "[0, 0] [1, 2] 2 4\n",
      "0\n",
      "[0, 0] [1, 0] 3 5\n",
      "[1, 0] [1, 0] 3 2\n",
      "[1, 0] [1, 0] 3 3\n",
      "[1, 0] [1, 1] 3 4\n",
      "1\n",
      "[0, 0] [1, 0] 4 5\n",
      "[1, 0] [1, 0] 4 2\n",
      "[2, 0] [1, 0] 4 3\n",
      "[2, 0] [1, 0] 4 4\n",
      "0\n"
     ]
    }
   ],
   "source": [
    "rating = [5,2,3,4]\n",
    "#less, greater = [0]*2, [0]*2\n",
    "for i in range(1,len(rating)):\n",
    "    less, greater = [0]*2, [0]*2\n",
    "    for j in range(len(rating)):\n",
    "        if rating[i] > rating[j]:\n",
    "            less[i < j] += 1\n",
    "        if rating[i] < rating[j]:\n",
    "            greater[i < j] += 1\n",
    "        print(less,greater,rating[i],rating[j])\n",
    "    print(less[0]*greater[1] + greater[0]*less[1])"
   ]
  },
  {
   "cell_type": "code",
   "execution_count": 24,
   "metadata": {},
   "outputs": [
    {
     "name": "stdout",
     "output_type": "stream",
     "text": [
      "[1, 2, 3, 4, 5, 6, 7, 8, 9]\n"
     ]
    },
    {
     "data": {
      "text/plain": [
       "[4, 6, 8]"
      ]
     },
     "execution_count": 24,
     "metadata": {},
     "output_type": "execute_result"
    }
   ],
   "source": [
    "piles = [9,8,7,6,5,1,2,3,4]\n",
    "print(sorted(piles))\n",
    "sorted(piles)[len(piles)//3::2]"
   ]
  },
  {
   "cell_type": "code",
   "execution_count": 123,
   "metadata": {},
   "outputs": [
    {
     "name": "stdout",
     "output_type": "stream",
     "text": [
      "[[37, 0, 0, 0, 0]]\n",
      "[[37, 98, 0, 0, 0]]\n",
      "[[37, 98, 82, 0, 0]]\n",
      "[[37, 98, 82, 45, 0]]\n",
      "[[37, 98, 82, 45, 42]]\n"
     ]
    }
   ],
   "source": [
    "mat = [[3,3,1,1],[2,2,1,2],[1,1,1,2]]\n",
    "mat = [[37,98,82,45,42]]\n",
    "d = dict()\n",
    "res = [[0]*len(mat[0]) for i in mat]\n",
    "\n",
    "for i in range(len(mat)):\n",
    "    for j in range(len(mat[0])):\n",
    "        if i-j in d:\n",
    "            d[i-j].append(mat[i][j])\n",
    "        else:\n",
    "            d[i-j]=[mat[i][j]]\n",
    "      \n",
    "for i in d:\n",
    "    d[i].sort()\n",
    "    for n in range(len(d[i])):\n",
    "        if i <= 0:\n",
    "            res[n][n-i] = d[i][n]\n",
    "        else:\n",
    "            res[n+i][n] = d[i][n]\n",
    "        print(res)\n"
   ]
  },
  {
   "cell_type": "code",
   "execution_count": 133,
   "metadata": {},
   "outputs": [
    {
     "name": "stdout",
     "output_type": "stream",
     "text": [
      "[0, 1, 2, 3, 4, 5, 6]\n",
      "[2, 3, 5, 7, 11, 13, 17]\n",
      "[2, 3, 4, 5, 6, 1]\n",
      "[3, 5, 7, 11, 13, 17]\n",
      "[4, 5, 6, 1, 3]\n",
      "[5, 7, 11, 13, 17]\n",
      "[6, 1, 3, 5]\n",
      "[7, 11, 13, 17]\n",
      "[3, 5, 1]\n",
      "[11, 13, 17]\n",
      "[1, 5]\n",
      "[13, 17]\n",
      "[5]\n",
      "[17]\n",
      "[2, 13, 3, 11, 5, 17, 7]\n"
     ]
    }
   ],
   "source": [
    "deck = [17,13,11,2,3,5,7]\n",
    "deck.sort()\n",
    "index  = [i for i in range(len(deck))] #track index of the elements revealed or pushed back\n",
    "result = [0]*len(deck)\n",
    "while deck:\n",
    "    print(index)\n",
    "    print(deck)\n",
    "    #print(result)\n",
    "    result[index.pop(0)] = deck.pop(0) # Reveal the element and pop that index\n",
    "    if index:\n",
    "        index.append(index.pop(0)) # Push back the index\n",
    "print(result)    "
   ]
  },
  {
   "cell_type": "code",
   "execution_count": 144,
   "metadata": {},
   "outputs": [
    {
     "name": "stdout",
     "output_type": "stream",
     "text": [
      "yH29Y9Txnwv3Ipn\n"
     ]
    }
   ],
   "source": [
    "import string, random\n",
    "s = string.ascii_letters + string.digits\n",
    "s = ''.join(random.choice(s) for _ in range(15))\n",
    "print(s)"
   ]
  },
  {
   "cell_type": "code",
   "execution_count": 167,
   "metadata": {},
   "outputs": [
    {
     "name": "stdout",
     "output_type": "stream",
     "text": [
      "['X', '.', 'X']\n",
      "['.', '.', 'X']\n",
      "['.', '.', 'X']\n",
      "2\n"
     ]
    }
   ],
   "source": [
    "b = [['X','.','X'],['.','.','X'],['.','.','X']]\n",
    "d = []\n",
    "for i in range(len(b)):\n",
    "    d= d + [(i,j) for j in range(len(b[i])) if b[i][j] == 'X']\n",
    "    print(b[i])\n",
    "ans = 0\n",
    "for i in range(len(b)):\n",
    "    for j in range(len(b[0])):\n",
    "        if b[i][j] == \"X\" and (i == 0 or b[i-1][j] == \".\") and (j == 0 or b[i][j-1] == \".\"):\n",
    "            ans += 1\n",
    "print(ans)"
   ]
  },
  {
   "cell_type": "code",
   "execution_count": 172,
   "metadata": {},
   "outputs": [
    {
     "name": "stdout",
     "output_type": "stream",
     "text": [
      "2\n",
      "3\n",
      "4\n",
      "{3: 4, 5: 3, 2: 2, 7: 1}\n"
     ]
    }
   ],
   "source": [
    "arr = [5,5,2,3,3,3,3,5,2,7]\n",
    "L=len(arr)\n",
    "dct = {}\n",
    "for i in arr:\n",
    "    if i in dct:\n",
    "        dct[i] += 1\n",
    "    else:\n",
    "        dct[i] = 1\n",
    "S = 0        \n",
    "for i,j in enumerate(sorted(dct.values(),reverse=True)):\n",
    "    S += j\n",
    "    if S >= L//2:\n",
    "        print(i+1)\n",
    "    \n",
    "print(d)        "
   ]
  },
  {
   "cell_type": "code",
   "execution_count": 190,
   "metadata": {},
   "outputs": [
    {
     "name": "stdout",
     "output_type": "stream",
     "text": [
      "[0, 2] [1, 5]\n",
      "[5, 10] [1, 5]\n",
      "[5, 10] [8, 12]\n",
      "[13, 23] [15, 24]\n",
      "[24, 25] [15, 24]\n",
      "[24, 25] [25, 26]\n",
      "[[1, 2], [5, 5], [8, 10], [15, 23], [24, 24], [25, 25]]\n"
     ]
    }
   ],
   "source": [
    "A = [[0,2],[5,10],[13,23],[24,25]] \n",
    "B = [[1,5],[8,12],[15,24],[25,26]]\n",
    "\n",
    "res = []\n",
    "for a in A:\n",
    "    for b in [i for i in B if i[0] <= a[0] <= i[1] or a[0] <= i[0] <= a[1]]:\n",
    "\n",
    "        print(a,b)\n",
    "        if b[0] <= a[0] <= b[1]:\n",
    "            if b[0] <= a[1] <= b[1]:\n",
    "                res.append(a)\n",
    "            else:\n",
    "                res.append([a[0],b[1]])\n",
    "        elif a[0] <= b[0] <= a[1]:\n",
    "            if a[0] <= b[1] <= a[1]:\n",
    "                res.append(b)\n",
    "            else:\n",
    "                res.append([b[0],a[1]])\n",
    "            \n",
    "print(res)\n",
    "            "
   ]
  },
  {
   "cell_type": "code",
   "execution_count": 217,
   "metadata": {},
   "outputs": [
    {
     "name": "stdout",
     "output_type": "stream",
     "text": [
      "[3, 2]\n"
     ]
    }
   ],
   "source": [
    "import collections\n",
    "nums = [4,3,2,7,8,2,3,1]\n",
    "#nums = collections.Counter(nums) \n",
    "for i in range(len(nums)):\n",
    "    if i+1 != nums[i]:\n",
    "        try:\n",
    "            nums[nums.index(i+1)],nums[i] = nums[i], nums[nums.index(i+1)]\n",
    "        except:\n",
    "           pass \n",
    "print([nums[i] for i in range(len(nums)) if i+1 != nums[i]]) \n",
    "        \n",
    "#print([i for i,j in nums.items() if j > 1])\n"
   ]
  },
  {
   "cell_type": "code",
   "execution_count": 228,
   "metadata": {},
   "outputs": [
    {
     "name": "stdout",
     "output_type": "stream",
     "text": [
      "[('0', <itertools._grouper object at 0x000002B200BDFBE0>), ('1', <itertools._grouper object at 0x000002B200BDFCA0>), ('0', <itertools._grouper object at 0x000002B200BDF220>), ('1', <itertools._grouper object at 0x000002B200BDFE20>)]\n",
      "3\n"
     ]
    }
   ],
   "source": [
    "import itertools\n",
    "target = '10111'\n",
    "print([(i,j) for i,j in itertools.groupby(\"0\" + target)])\n",
    "print(len(list(itertools.groupby(\"0\" + target))) - 1)"
   ]
  },
  {
   "cell_type": "code",
   "execution_count": 279,
   "metadata": {},
   "outputs": [
    {
     "name": "stdout",
     "output_type": "stream",
     "text": [
      "[[9, 9, 9], [3, 4, 1], [9, 9, 9], [9, 9, 9], [9, 9, 9], [9, 9, 9], [9, 9, 9], [9, 9, 9]]\n",
      "[[3, 4]]\n"
     ]
    }
   ],
   "source": [
    "queens = [[2,0],[1,6],[3,4],[4,1]]\n",
    "king = [3,5]\n",
    "res = [[9,9,9] for i in range(8)]\n",
    "for i in queens:\n",
    "    if king[0] == i[0] and king[1] < i[1] and res[0][2] > abs(king[1] - i[1]):\n",
    "            res[0] = i+[abs(king[1] - i[1])]\n",
    "    if king[0] == i[0] and king[1] > i[1] and res[1][2] > abs(king[1] - i[1]):\n",
    "            res[1] = i+[abs(king[1] - i[1])]\n",
    "    if king[1] == i[1] and king[0] < i[0] and res[2][2] > abs(king[0] - i[0]):\n",
    "            res[2] = i+[abs(king[0] - i[0])]\n",
    "    if king[1] == i[1] and king[0] > i[0] and res[3][2] > abs(king[0] - i[0]):\n",
    "            res[3] = i+[abs(king[0] - i[0])]\n",
    "            \n",
    "    if king[0] - king[1] == i[0] - i[1] and king[1] < i[1] and king[0] < i[0] and res[4][2] > abs(king[1] - i[1]):\n",
    "            res[4] = i+[abs(king[1] - i[1])]\n",
    "    if king[0] - king[1] == i[0] - i[1] and king[1] > i[1] and king[0] > i[0] and res[5][2] > abs(king[1] - i[1]):\n",
    "            res[5] = i+[abs(king[1] - i[1])]\n",
    "    if king[0] + king[1] == i[0] + i[1] and king[1] > i[1] and king[0] < i[0] and res[6][2] > abs(king[0] - i[0]):\n",
    "            res[6] = i+[abs(king[0] - i[0])]\n",
    "    if king[0] + king[1] == i[0] + i[1] and king[1] < i[1] and king[0] > i[0] and res[7][2] > abs(king[0] - i[0]):\n",
    "            res[7] = i+[abs(king[0] - i[0])]\n",
    "print(res)            \n",
    "print([[i[0],i[1]] for i in res if i[2] < 9])\n"
   ]
  },
  {
   "cell_type": "code",
   "execution_count": 333,
   "metadata": {},
   "outputs": [
    {
     "name": "stdout",
     "output_type": "stream",
     "text": [
      "[(12, 9), (13, 9), (14, 17), (15, 17)]\n"
     ]
    },
    {
     "data": {
      "text/plain": [
       "13"
      ]
     },
     "execution_count": 333,
     "metadata": {},
     "output_type": "execute_result"
    }
   ],
   "source": [
    "def step(n,i) -> int:\n",
    "    i = i + 1\n",
    "    if n == 1:\n",
    "        return i - 1\n",
    "    \n",
    "    if n % 2:\n",
    "        i = step(3*n+1,i)\n",
    "    else:\n",
    "        i = step(n//2,i)\n",
    "    return i  \n",
    "        \n",
    "lo, hi, k = 12, 15, 2\n",
    "l = []\n",
    "for i in range(lo,hi+1):\n",
    "    a = step(i,0)\n",
    "    l.append((i,a))\n",
    "l = sorted(l,key=lambda x:x[1])    \n",
    "l[k-1][0]\n"
   ]
  },
  {
   "cell_type": "code",
   "execution_count": 338,
   "metadata": {},
   "outputs": [
    {
     "name": "stdout",
     "output_type": "stream",
     "text": [
      "[1, 2, 3, 4, 6, 12]\n"
     ]
    },
    {
     "data": {
      "text/plain": [
       "3"
      ]
     },
     "execution_count": 338,
     "metadata": {},
     "output_type": "execute_result"
    }
   ],
   "source": [
    "n, k = 12, 3\n",
    "l = []\n",
    "for i in range(1,n+1):\n",
    "    if n%i == 0:\n",
    "        l.append(i)\n",
    "print(l)\n",
    "l[k-1]"
   ]
  },
  {
   "cell_type": "code",
   "execution_count": 399,
   "metadata": {},
   "outputs": [
    {
     "name": "stdout",
     "output_type": "stream",
     "text": [
      "['ababa', 'ababc', 'abaca', 'abacb', 'abcab', 'abcac', 'abcba', 'abcbc', 'acaba', 'acabc', 'acaca', 'acacb', 'acbab', 'acbac', 'acbca', 'acbcb', 'babab', 'babac', 'babca', 'babcb', 'bacab', 'bacac', 'bacba', 'bacbc', 'bcaba', 'bcabc', 'bcaca', 'bcacb', 'bcbab', 'bcbac', 'bcbca', 'bcbcb', 'cabab', 'cabac', 'cabca', 'cabcb', 'cacab', 'cacac', 'cacba', 'cacbc', 'cbaba', 'cbabc', 'cbaca', 'cbacb', 'cbcab', 'cbcac', 'cbcba', 'cbcbc']\n",
      "cabca\n"
     ]
    }
   ],
   "source": [
    "import itertools as itr\n",
    "n,k=5,35\n",
    "l = [''.join(i) for i in itr.product('abc',repeat=n)]\n",
    "unhap = []\n",
    "for wrd in l:\n",
    "    for ind in range(1,len(wrd)):\n",
    "        if wrd[ind] == wrd[ind-1]:\n",
    "            unhap.append(wrd)\n",
    "            break\n",
    "            \n",
    "for i in unhap:\n",
    "    l.remove(i)\n",
    "print(l)\n",
    "print(l[k-1])\n",
    "\n"
   ]
  },
  {
   "cell_type": "code",
   "execution_count": 402,
   "metadata": {},
   "outputs": [
    {
     "name": "stdout",
     "output_type": "stream",
     "text": [
      "18\n",
      "9\n",
      "5\n",
      "3\n",
      "[0, 0, 1, 0] 3\n",
      "ca\n",
      "cab\n",
      "cabc\n",
      "cabca\n"
     ]
    }
   ],
   "source": [
    "res = []\n",
    "n , k = 5, 35\n",
    "while n > 1:\n",
    "    res.append((k+1)%2)\n",
    "    k  = (k+1)//2\n",
    "    print(k)\n",
    "    n -= 1\n",
    "\n",
    "res = res[::-1]\n",
    "print(res,k)\n",
    "if k == 1:\n",
    "    s = 'a'\n",
    "elif k == 2:\n",
    "    s = 'b'\n",
    "elif k == 3:\n",
    "    s = 'c'\n",
    "\n",
    "for i in res:\n",
    "    if i == 0:\n",
    "        if s[-1] == 'a':\n",
    "            s += 'b'\n",
    "        else:\n",
    "            s += 'a'\n",
    "    else:\n",
    "        if s[-1] == 'c':\n",
    "            s += 'b'\n",
    "        else:\n",
    "            s += 'c'\n",
    "    print(s)"
   ]
  },
  {
   "cell_type": "code",
   "execution_count": 447,
   "metadata": {},
   "outputs": [
    {
     "data": {
      "text/plain": [
       "['abd1', 'abD1', 'aBd1', 'aBD1', 'Abd1', 'AbD1', 'ABd1', 'ABD1']"
      ]
     },
     "execution_count": 447,
     "metadata": {},
     "output_type": "execute_result"
    }
   ],
   "source": [
    "S = \"abd1\"\n",
    "f = lambda x:x+x.swapcase() if x.isalpha() == 1 else (x)\n",
    "res = map(f, [i for i in S])\n",
    "tmp = ''\n",
    "[''.join(i) for i in itr.product(*res)]\n"
   ]
  },
  {
   "cell_type": "code",
   "execution_count": 434,
   "metadata": {},
   "outputs": [
    {
     "data": {
      "text/plain": [
       "['AB2C1', 'AB2c1', 'Ab2C1', 'Ab2c1', 'aB2C1', 'aB2c1', 'ab2C1', 'ab2c1']"
      ]
     },
     "execution_count": 434,
     "metadata": {},
     "output_type": "execute_result"
    }
   ],
   "source": [
    "[''.join(i) for i in itr.product('Aa','Bb','2','Cc','1')]"
   ]
  },
  {
   "cell_type": "code",
   "execution_count": 471,
   "metadata": {},
   "outputs": [
    {
     "name": "stdout",
     "output_type": "stream",
     "text": [
      "caca\n"
     ]
    }
   ],
   "source": [
    "S = 'abbacaca'\n",
    "i = 1\n",
    "#lenS = len(S)\n",
    "while i<len(S):\n",
    "    #print(i,lenS,S)\n",
    "    if S[i] == S[i-1]:\n",
    "        S = S[:i-1]+S[i+1:]\n",
    "        #lenS=len(S)\n",
    "        if i > 1:\n",
    "            i-=1\n",
    "    else:\n",
    "        i+=1\n",
    "print(S)\n"
   ]
  },
  {
   "cell_type": "code",
   "execution_count": 469,
   "metadata": {},
   "outputs": [
    {
     "name": "stdout",
     "output_type": "stream",
     "text": [
      "a ['a']\n",
      "a ['a']\n",
      "b ['a', 'b']\n",
      "b ['a', 'b']\n",
      "b ['a', 'b', 'b']\n",
      "b ['a']\n",
      "a ['a', 'a']\n",
      "a []\n",
      "c ['c']\n",
      "c ['c']\n",
      "a ['c', 'a']\n",
      "a ['c', 'a']\n",
      "a ['c', 'a', 'a']\n",
      "a ['c']\n",
      "c\n"
     ]
    }
   ],
   "source": [
    "S = 'abbacaa'\n",
    "stack = []\n",
    "for i in S:\n",
    "    stack.append(i)\n",
    "    print(i,stack)\n",
    "    if len(stack) >= 2 and stack[-1] == stack[-2]:\n",
    "        stack.pop()\n",
    "        stack.pop()\n",
    "    print(i,stack)        \n",
    "print(''.join(stack))"
   ]
  },
  {
   "cell_type": "code",
   "execution_count": 15,
   "metadata": {},
   "outputs": [
    {
     "name": "stdout",
     "output_type": "stream",
     "text": [
      "[('a', 4), ('d', 3), ('h', 3), ('j', 2), ('s', 2), ('c', 1), ('f', 1), ('k', 1)]\n",
      "jscfk\n"
     ]
    }
   ],
   "source": [
    "s = 'addshjkfhhdsjaaac'\n",
    "d = {}\n",
    "for i in s:\n",
    "    if i in d:\n",
    "        d[i] += 1\n",
    "    else:\n",
    "        d[i] = 1\n",
    "l = [(i,j) for i,j in sorted(d.items(), key=lambda x:(-x[1],x[0]))]\n",
    "print(l)\n",
    "filtr = [l[0][1],l[1][1]]\n",
    "print(''.join([i[0] for i in l if i[1] not in filtr]))\n"
   ]
  },
  {
   "cell_type": "code",
   "execution_count": 109,
   "metadata": {},
   "outputs": [
    {
     "name": "stdout",
     "output_type": "stream",
     "text": [
      "[['Table', 'Beef Burrito', 'Ceviche', 'Fried Chicken', 'Water'], ['3', '0', '2', '1', '0'], ['5', '0', '1', '0', '1'], ['10', '1', '0', '0', '0']]\n"
     ]
    }
   ],
   "source": [
    "orders = [[\"David\",\"3\",\"Ceviche\"],[\"Corina\",\"10\",\"Beef Burrito\"],[\"David\",\"3\",\"Fried Chicken\"],[\"Carla\",\"5\",\"Water\"],[\"Carla\",\"5\",\"Ceviche\"],[\"Rous\",\"3\",\"Ceviche\"]]\n",
    "tables = []\n",
    "menu = []\n",
    "res = []\n",
    "meals = {}\n",
    "\n",
    "for i in orders:\n",
    "    name, table, food = i\n",
    "    tables.append(table)\n",
    "    menu.append(food)\n",
    "\n",
    "    if (table,food) not in meals:\n",
    "        meals[(table,food)] = 1\n",
    "    else:\n",
    "        meals[(table,food)] += 1\n",
    "\n",
    "tables  = sorted(set(tables),key=int)\n",
    "menu = sorted(set(menu))\n",
    "line = ['Table'] + menu\n",
    "res.append(line)\n",
    "\n",
    "for i in tables:\n",
    "    line = [i]+['0']*len(menu)\n",
    "    for n,j in enumerate(menu):\n",
    "        if (i,j) in meals:\n",
    "            line[n+1] = str(meals[(i,j)])\n",
    "    res.append(line)\n",
    "print(res)\n"
   ]
  },
  {
   "cell_type": "code",
   "execution_count": 203,
   "metadata": {},
   "outputs": [
    {
     "data": {
      "text/plain": [
       "[['Table', 'Beef Burrito', 'Ceviche', 'Fried Chicken', 'Water'],\n",
       " ['3', '0', '2', '1', '0'],\n",
       " ['5', '0', '1', '0', '1'],\n",
       " ['10', '1', '0', '0', '0']]"
      ]
     },
     "execution_count": 203,
     "metadata": {},
     "output_type": "execute_result"
    }
   ],
   "source": [
    "import pandas\n",
    "orders = [[\"David\",\"3\",\"Ceviche\"],[\"Corina\",\"10\",\"Beef Burrito\"],[\"David\",\"3\",\"Fried Chicken\"],[\"Carla\",\"5\",\"Water\"],[\"Carla\",\"5\",\"Ceviche\"],[\"Rous\",\"3\",\"Ceviche\"]]\n",
    "d = {'Table':[],'Food':[], 'val':[]}\n",
    "for i in orders:\n",
    "     name, table, food = i\n",
    "     d['Table'].append(int(table))\n",
    "     d['Food'].append(food)\n",
    "     d['val'].append(1)\n",
    "\n",
    "orders = pandas.DataFrame(d).groupby(['Table', 'Food']).val.sum().unstack().fillna(0)\n",
    "orders.reset_index(inplace=True)\n",
    "orders = orders.sort_values(by=['Table'], ascending=True).astype('int').astype('str')\n",
    "\n",
    "res = [orders.columns.values.tolist()] + orders.values.tolist()\n",
    "res\n",
    "\n",
    "\n"
   ]
  },
  {
   "cell_type": "code",
   "execution_count": 217,
   "metadata": {},
   "outputs": [
    {
     "name": "stdout",
     "output_type": "stream",
     "text": [
      "10.666666666666666\n"
     ]
    },
    {
     "data": {
      "text/plain": [
       "'null'"
      ]
     },
     "execution_count": 217,
     "metadata": {},
     "output_type": "execute_result"
    }
   ],
   "source": [
    "cust = dict()\n",
    "travel = dict()\n",
    "cust[2] = ['aaa',10]\n",
    "start_station, start_time = cust.pop(2)\n",
    "travel[('aa','bb')] = [10,12,10]\n",
    "l = travel[('aa','bb')]\n",
    "print(sum(l)/len(l))\n",
    "\n",
    "def test() -> float:\n",
    "    return 'null'\n",
    "test()"
   ]
  },
  {
   "cell_type": "code",
   "execution_count": 1,
   "metadata": {},
   "outputs": [
    {
     "name": "stdout",
     "output_type": "stream",
     "text": [
      "mccccbaaaadxzzxz\n"
     ]
    },
    {
     "ename": "NameError",
     "evalue": "name 'collections' is not defined",
     "output_type": "error",
     "traceback": [
      "\u001b[1;31m---------------------------------------------------------------------------\u001b[0m",
      "\u001b[1;31mNameError\u001b[0m                                 Traceback (most recent call last)",
      "\u001b[1;32m<ipython-input-1-1abd9d8c42e9>\u001b[0m in \u001b[0;36m<module>\u001b[1;34m\u001b[0m\n\u001b[0;32m      2\u001b[0m \u001b[0mT\u001b[0m \u001b[1;33m=\u001b[0m \u001b[1;34m\"abcdaaacccmxzzxz\"\u001b[0m\u001b[1;33m\u001b[0m\u001b[1;33m\u001b[0m\u001b[0m\n\u001b[0;32m      3\u001b[0m \u001b[0mprint\u001b[0m\u001b[1;33m(\u001b[0m\u001b[1;34m''\u001b[0m\u001b[1;33m.\u001b[0m\u001b[0mjoin\u001b[0m\u001b[1;33m(\u001b[0m\u001b[0msorted\u001b[0m\u001b[1;33m(\u001b[0m\u001b[0mT\u001b[0m\u001b[1;33m,\u001b[0m \u001b[0mkey\u001b[0m\u001b[1;33m=\u001b[0m \u001b[1;32mlambda\u001b[0m \u001b[0mx\u001b[0m\u001b[1;33m:\u001b[0m \u001b[0mS\u001b[0m\u001b[1;33m.\u001b[0m\u001b[0mindex\u001b[0m\u001b[1;33m(\u001b[0m\u001b[0mx\u001b[0m\u001b[1;33m)\u001b[0m \u001b[1;32mif\u001b[0m \u001b[0mx\u001b[0m \u001b[1;32min\u001b[0m \u001b[0mS\u001b[0m \u001b[1;32melse\u001b[0m \u001b[0mlen\u001b[0m\u001b[1;33m(\u001b[0m\u001b[0mT\u001b[0m\u001b[1;33m)\u001b[0m\u001b[1;33m-\u001b[0m\u001b[1;36m1\u001b[0m\u001b[1;33m)\u001b[0m\u001b[1;33m)\u001b[0m\u001b[1;33m)\u001b[0m\u001b[1;33m\u001b[0m\u001b[1;33m\u001b[0m\u001b[0m\n\u001b[1;32m----> 4\u001b[1;33m \u001b[0mc\u001b[0m \u001b[1;33m=\u001b[0m \u001b[0mcollections\u001b[0m\u001b[1;33m.\u001b[0m\u001b[0mCounter\u001b[0m\u001b[1;33m(\u001b[0m\u001b[0mT\u001b[0m\u001b[1;33m)\u001b[0m\u001b[1;33m\u001b[0m\u001b[1;33m\u001b[0m\u001b[0m\n\u001b[0m\u001b[0;32m      5\u001b[0m \u001b[0mR\u001b[0m \u001b[1;33m=\u001b[0m \u001b[1;34m\"\"\u001b[0m\u001b[1;33m\u001b[0m\u001b[1;33m\u001b[0m\u001b[0m\n\u001b[0;32m      6\u001b[0m \u001b[1;32mfor\u001b[0m \u001b[0mi\u001b[0m \u001b[1;32min\u001b[0m \u001b[0mS\u001b[0m\u001b[1;33m:\u001b[0m\u001b[1;33m\u001b[0m\u001b[1;33m\u001b[0m\u001b[0m\n",
      "\u001b[1;31mNameError\u001b[0m: name 'collections' is not defined"
     ]
    }
   ],
   "source": [
    "S = \"mlpcbaqwerty\"\n",
    "T = \"abcdaaacccmxzzxz\"\n",
    "print(''.join(sorted(T, key= lambda x: S.index(x) if x in S else len(T)-1)))\n",
    "c = collections.Counter(T)\n",
    "R = \"\"\n",
    "for i in S:\n",
    "    if i in c:\n",
    "        R = R + i*c[i]\n",
    "        T = T.replace(i,\"\")\n",
    "R = R + T\n",
    "R\n",
    "\n",
    "#\"\".join([i*j for i,j in c.items()])"
   ]
  },
  {
   "cell_type": "code",
   "execution_count": 14,
   "metadata": {},
   "outputs": [
    {
     "name": "stdout",
     "output_type": "stream",
     "text": [
      "1\n"
     ]
    }
   ],
   "source": [
    "A = [\"cba\",\"daf\",\"ghi\"]\n",
    "\n",
    "n = len(A[0])\n",
    "res = n\n",
    "for i in range(n):\n",
    "    l = 1\n",
    "    while l< len(A):\n",
    "        if A[l-1][i] > A[l][i]:\n",
    "            res -= 1\n",
    "            break\n",
    "        l += 1\n",
    "print(n - res)"
   ]
  },
  {
   "cell_type": "code",
   "execution_count": 41,
   "metadata": {},
   "outputs": [
    {
     "name": "stdout",
     "output_type": "stream",
     "text": [
      "('c', 'd', 'g') ('b', 'a', 'h') ('a', 'f', 'i')\n"
     ]
    }
   ],
   "source": [
    "A = [\"cba\",\"daf\",\"ghi\"]\n",
    "b = [sorted(col) for col in A]\n",
    "print(*zip(*A))\n"
   ]
  },
  {
   "cell_type": "code",
   "execution_count": 53,
   "metadata": {},
   "outputs": [
    {
     "data": {
      "text/plain": [
       "10"
      ]
     },
     "execution_count": 53,
     "metadata": {},
     "output_type": "execute_result"
    }
   ],
   "source": [
    "words = [\"hello\",\"world\",\"leetcode\"]\n",
    "chars = \"welldonehoneyr\"\n",
    "res = 0\n",
    "for i in words:\n",
    "    if all([ch in chars for ch in i]):\n",
    "        res += len(i)\n",
    "res"
   ]
  },
  {
   "cell_type": "code",
   "execution_count": 68,
   "metadata": {},
   "outputs": [
    {
     "name": "stdout",
     "output_type": "stream",
     "text": [
      "['e', 'l', 'l']\n"
     ]
    }
   ],
   "source": [
    "A = [\"bella\",\"label\",\"roller\"]\n",
    "d = dict()\n",
    "for i in [chr(n) for n in range(ord('a'),ord('z')+1)]:\n",
    "    val = min([word.count(i) for word in A])\n",
    "    if val > 0:\n",
    "        d[i] = val\n",
    "L=[]\n",
    "for k,v in d.items():\n",
    "    L = L + [k]*v\n",
    "\n",
    "print(L)"
   ]
  },
  {
   "cell_type": "code",
   "execution_count": 9,
   "metadata": {},
   "outputs": [
    {
     "name": "stdout",
     "output_type": "stream",
     "text": [
      "Imaa peaksmaaa oatGmaaaa atinLmaaaaa\n"
     ]
    }
   ],
   "source": [
    "S = \"I speak Goat Latin\"\n",
    "S = S.split()\n",
    "for i in range(len(S)):\n",
    "    if S[i][0].lower() in ('a','e','i','o','u'): \n",
    "        S[i] = S[i]+'ma' + 'a'*(i+1)\n",
    "    else: \n",
    "        S[i] = S[i][1:]+S[i][0]+'ma' + 'a'*(i+1)\n",
    "print(' '.join(S))\n",
    "        \n",
    "#res = [if i[0].lower() in ('a','e','i','o','u'): i+'ma' else i[1:]+i[0]+'ma' for i in S.split()]\n"
   ]
  },
  {
   "cell_type": "code",
   "execution_count": 5,
   "metadata": {},
   "outputs": [
    {
     "name": "stdout",
     "output_type": "stream",
     "text": [
      "ERROR\n"
     ]
    }
   ],
   "source": [
    "s = ''\n",
    "try:\n",
    "    if len(s) == 0:\n",
    "        print('ERROR')\n",
    "except:\n",
    "    print('EXCEPT')\n"
   ]
  },
  {
   "cell_type": "code",
   "execution_count": 44,
   "metadata": {},
   "outputs": [
    {
     "name": "stdout",
     "output_type": "stream",
     "text": [
      "[1, 4]\n",
      "[7, 1]\n",
      "[5, 7]\n",
      "[]\n",
      "[5, 8, 12, 0]\n"
     ]
    }
   ],
   "source": [
    "code = [5,7,1,4]\n",
    "k = -2\n",
    "decode = code\n",
    "res = []\n",
    "if k == 0: \n",
    "    decode = [0 for i in code]\n",
    "elif k < 0:\n",
    "    decode = code * 3\n",
    "    for i in range(len(code)):\n",
    "        res.append(sum(decode[len(code)-i-2:len(code)-(i+k+2)]))\n",
    "        print(decode[len(code)-i-2:len(code)-(i+k+2)])\n",
    "else: \n",
    "    decode = code * 2\n",
    "    for i in range(len(code)):\n",
    "        res.append(sum(decode[i+1:i+k+1]))\n",
    "        print(decode[i+1:i+k+1])\n",
    "print(res)\n"
   ]
  },
  {
   "cell_type": "code",
   "execution_count": null,
   "metadata": {},
   "outputs": [],
   "source": [
    "import win32api, win32con, time\n",
    "def click(x,y):\n",
    "    win32api.SetCursorPos((x,y))\n",
    "    win32api.mouse_event(win32con.MOUSEEVENTF_LEFTDOWN,x,y,0,0)\n",
    "    win32api.mouse_event(win32con.MOUSEEVENTF_LEFTUP,x,y,0,0)\n",
    "while 1==1:\n",
    "    click(500,500)\n",
    "    time.sleep(59)\n"
   ]
  },
  {
   "cell_type": "code",
   "execution_count": 1,
   "metadata": {
    "scrolled": false
   },
   "outputs": [
    {
     "name": "stdout",
     "output_type": "stream",
     "text": [
      "Mon Jun 26 09:59:06 2023\n",
      "Mon Jun 26 10:01:06 2023\n",
      "Mon Jun 26 10:03:06 2023\n",
      "Mon Jun 26 10:05:06 2023\n",
      "Mon Jun 26 10:07:06 2023\n",
      "Mon Jun 26 10:09:06 2023\n",
      "Mon Jun 26 10:11:06 2023\n",
      "Mon Jun 26 10:13:06 2023\n",
      "Mon Jun 26 10:15:06 2023\n",
      "Mon Jun 26 10:17:06 2023\n",
      "Mon Jun 26 10:19:06 2023\n",
      "Mon Jun 26 10:21:06 2023\n",
      "Mon Jun 26 10:23:06 2023\n",
      "Mon Jun 26 10:25:06 2023\n",
      "Mon Jun 26 10:27:07 2023\n",
      "Mon Jun 26 10:29:07 2023\n",
      "Mon Jun 26 10:31:07 2023\n",
      "Mon Jun 26 10:33:07 2023\n",
      "Mon Jun 26 10:35:07 2023\n",
      "Mon Jun 26 10:37:07 2023\n",
      "Mon Jun 26 10:39:07 2023\n",
      "Mon Jun 26 10:41:07 2023\n",
      "Mon Jun 26 10:43:07 2023\n",
      "Mon Jun 26 10:45:07 2023\n",
      "Mon Jun 26 10:47:07 2023\n",
      "Mon Jun 26 10:49:07 2023\n",
      "Mon Jun 26 10:51:07 2023\n",
      "Mon Jun 26 10:53:07 2023\n",
      "Mon Jun 26 10:55:07 2023\n",
      "Mon Jun 26 10:57:07 2023\n",
      "Mon Jun 26 10:59:07 2023\n",
      "Mon Jun 26 11:01:07 2023\n",
      "Mon Jun 26 11:03:07 2023\n",
      "Mon Jun 26 11:05:07 2023\n",
      "Mon Jun 26 11:07:07 2023\n",
      "Mon Jun 26 11:09:07 2023\n",
      "Mon Jun 26 11:11:07 2023\n",
      "Mon Jun 26 11:13:07 2023\n",
      "Mon Jun 26 11:15:07 2023\n",
      "Mon Jun 26 11:17:07 2023\n",
      "Mon Jun 26 11:19:07 2023\n",
      "Mon Jun 26 11:21:08 2023\n",
      "Mon Jun 26 11:23:08 2023\n",
      "Mon Jun 26 11:25:08 2023\n",
      "Mon Jun 26 11:27:08 2023\n",
      "Mon Jun 26 11:29:08 2023\n"
     ]
    },
    {
     "ename": "KeyboardInterrupt",
     "evalue": "",
     "output_type": "error",
     "traceback": [
      "\u001b[1;31m---------------------------------------------------------------------------\u001b[0m",
      "\u001b[1;31mKeyboardInterrupt\u001b[0m                         Traceback (most recent call last)",
      "\u001b[1;32m~\\AppData\\Local\\Temp\\ipykernel_18096\\2451592237.py\u001b[0m in \u001b[0;36m<module>\u001b[1;34m\u001b[0m\n\u001b[0;32m      3\u001b[0m     \u001b[0mmouse\u001b[0m\u001b[1;33m.\u001b[0m\u001b[0mmove\u001b[0m\u001b[1;33m(\u001b[0m\u001b[1;34m\"500\"\u001b[0m\u001b[1;33m,\u001b[0m \u001b[1;34m\"500\"\u001b[0m\u001b[1;33m)\u001b[0m\u001b[1;33m\u001b[0m\u001b[1;33m\u001b[0m\u001b[0m\n\u001b[0;32m      4\u001b[0m     \u001b[0mmouse\u001b[0m\u001b[1;33m.\u001b[0m\u001b[0mclick\u001b[0m\u001b[1;33m(\u001b[0m\u001b[0mbutton\u001b[0m\u001b[1;33m=\u001b[0m\u001b[1;34m'left'\u001b[0m\u001b[1;33m)\u001b[0m\u001b[1;33m\u001b[0m\u001b[1;33m\u001b[0m\u001b[0m\n\u001b[1;32m----> 5\u001b[1;33m     \u001b[0mtime\u001b[0m\u001b[1;33m.\u001b[0m\u001b[0msleep\u001b[0m\u001b[1;33m(\u001b[0m\u001b[1;36m60\u001b[0m\u001b[1;33m)\u001b[0m\u001b[1;33m\u001b[0m\u001b[1;33m\u001b[0m\u001b[0m\n\u001b[0m\u001b[0;32m      6\u001b[0m     \u001b[0mprint\u001b[0m\u001b[1;33m(\u001b[0m\u001b[0mtime\u001b[0m\u001b[1;33m.\u001b[0m\u001b[0mctime\u001b[0m\u001b[1;33m(\u001b[0m\u001b[1;33m)\u001b[0m\u001b[1;33m)\u001b[0m\u001b[1;33m\u001b[0m\u001b[1;33m\u001b[0m\u001b[0m\n\u001b[0;32m      7\u001b[0m     \u001b[0mmouse\u001b[0m\u001b[1;33m.\u001b[0m\u001b[0mmove\u001b[0m\u001b[1;33m(\u001b[0m\u001b[1;34m\"500\"\u001b[0m\u001b[1;33m,\u001b[0m \u001b[1;34m\"900\"\u001b[0m\u001b[1;33m)\u001b[0m\u001b[1;33m\u001b[0m\u001b[1;33m\u001b[0m\u001b[0m\n",
      "\u001b[1;31mKeyboardInterrupt\u001b[0m: "
     ]
    }
   ],
   "source": [
    "import mouse, time\n",
    "for _ in range(90):\n",
    "    mouse.move(\"500\", \"500\")\n",
    "    mouse.click(button='left')\n",
    "    time.sleep(60)\n",
    "    print(time.ctime())\n",
    "    mouse.move(\"500\", \"900\")\n",
    "    mouse.click(button='left')\n",
    "    time.sleep(60)"
   ]
  },
  {
   "cell_type": "code",
   "execution_count": 1,
   "metadata": {},
   "outputs": [
    {
     "ename": "SyntaxError",
     "evalue": "invalid syntax (<ipython-input-1-cf7a78e93e01>, line 5)",
     "output_type": "error",
     "traceback": [
      "\u001b[1;36m  File \u001b[1;32m\"<ipython-input-1-cf7a78e93e01>\"\u001b[1;36m, line \u001b[1;32m5\u001b[0m\n\u001b[1;33m    print (\"End : %s\", time.ctime())%%!\u001b[0m\n\u001b[1;37m                                     ^\u001b[0m\n\u001b[1;31mSyntaxError\u001b[0m\u001b[1;31m:\u001b[0m invalid syntax\n"
     ]
    }
   ],
   "source": [
    "import time\n",
    "\n",
    "print (\"Start : %s\" , time.ctime())\n",
    "time.sleep( 5 )\n",
    "print (\"End : %s\", time.ctime())%%!"
   ]
  },
  {
   "cell_type": "code",
   "execution_count": 10,
   "metadata": {},
   "outputs": [
    {
     "name": "stdout",
     "output_type": "stream",
     "text": [
      "ביטוי בשאלון לידי \n"
     ]
    }
   ],
   "source": [
    "a= ' ידיל ןולאשב יוטיב'\n",
    "print(a[::-1])"
   ]
  },
  {
   "cell_type": "code",
   "execution_count": null,
   "metadata": {},
   "outputs": [],
   "source": []
  }
 ],
 "metadata": {
  "kernelspec": {
   "display_name": "base",
   "language": "python",
   "name": "python3"
  },
  "language_info": {
   "codemirror_mode": {
    "name": "ipython",
    "version": 3
   },
   "file_extension": ".py",
   "mimetype": "text/x-python",
   "name": "python",
   "nbconvert_exporter": "python",
   "pygments_lexer": "ipython3",
   "version": "3.9.13"
  },
  "vscode": {
   "interpreter": {
    "hash": "13f8d67a21a44bcf56f6ed1442b701affea3d15df8e70df186ec6407b2e29229"
   }
  }
 },
 "nbformat": 4,
 "nbformat_minor": 4
}
